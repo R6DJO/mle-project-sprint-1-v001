{
 "cells": [
  {
   "cell_type": "code",
   "execution_count": 1,
   "id": "997ec731-6da3-4ed1-bbcd-5658c7d48efd",
   "metadata": {},
   "outputs": [],
   "source": [
    "from sqlalchemy import create_engine\n",
    "import os\n",
    "import numpy as np\n",
    "import pandas as pd\n",
    "from dotenv import load_dotenv\n",
    "\n",
    "pd.set_option('display.max_columns', None)\n",
    "pd.set_option('display.width', 2000)\n",
    "\n",
    "def create_connection():\n",
    "\n",
    "    load_dotenv()\n",
    "    host = os.environ.get('DB_DESTINATION_HOST')\n",
    "    port = os.environ.get('DB_DESTINATION_PORT')\n",
    "    db = os.environ.get('DB_DESTINATION_NAME')\n",
    "    username = os.environ.get('DB_DESTINATION_USER')\n",
    "    password = os.environ.get('DB_DESTINATION_PASSWORD')\n",
    "\n",
    "    conn = create_engine(f'postgresql://{username}:{password}@{host}:{port}/{db}')\n",
    "    return conn\n",
    "\n",
    "# установите соединение с базой\n",
    "conn = create_connection()\n"
   ]
  },
  {
   "cell_type": "code",
   "execution_count": 4,
   "id": "ad1b3c85",
   "metadata": {},
   "outputs": [
    {
     "data": {
      "text/plain": [
       "(141362, 18)"
      ]
     },
     "execution_count": 4,
     "metadata": {},
     "output_type": "execute_result"
    }
   ],
   "source": [
    "data_unique = pd.read_sql('''\n",
    "                           select f.id flat_id,f.floor,f.is_apartment apartment,f.kitchen_area,f.living_area,f.rooms,\n",
    "        f.studio,f.total_area,f.price,f.building_id,\n",
    "        b.build_year,b.building_type_int building_type,b.latitude,b.longitude,\n",
    "        b.ceiling_height,b.flats_count,b.floors_total,b.has_elevator\n",
    "        from flats as f\n",
    "        join buildings as b on f.building_id=b.id\n",
    "                   ''', conn)\n",
    "data_unique\n",
    "data_unique.shape"
   ]
  },
  {
   "cell_type": "code",
   "execution_count": 5,
   "id": "9a6a6c49",
   "metadata": {},
   "outputs": [
    {
     "name": "stdout",
     "output_type": "stream",
     "text": [
      "flat_id             int64\n",
      "floor               int64\n",
      "apartment            bool\n",
      "kitchen_area      float64\n",
      "living_area       float64\n",
      "rooms               int64\n",
      "studio               bool\n",
      "total_area        float64\n",
      "price               int64\n",
      "building_id         int64\n",
      "build_year          int64\n",
      "building_type       int64\n",
      "latitude          float64\n",
      "longitude         float64\n",
      "ceiling_height    float64\n",
      "flats_count         int64\n",
      "floors_total        int64\n",
      "has_elevator         bool\n",
      "dtype: object\n"
     ]
    }
   ],
   "source": [
    "print(data_unique.dtypes)"
   ]
  },
  {
   "cell_type": "code",
   "execution_count": 28,
   "id": "2d896825",
   "metadata": {},
   "outputs": [
    {
     "name": "stdout",
     "output_type": "stream",
     "text": [
      "id                   141362\n",
      "floor                    56\n",
      "is_apartment              2\n",
      "kitchen_area           1036\n",
      "living_area            2345\n",
      "rooms                    14\n",
      "studio                    1\n",
      "total_area             3358\n",
      "price                  8384\n",
      "building_id           24620\n",
      "build_year              118\n",
      "building_type_int         7\n",
      "latitude              15720\n",
      "longitude             15271\n",
      "ceiling_height           77\n",
      "flats_count             706\n",
      "floors_total             64\n",
      "has_elevator              2\n",
      "dtype: int64\n"
     ]
    }
   ],
   "source": [
    "unique_counts = data_unique.nunique()\n",
    "print(unique_counts)"
   ]
  },
  {
   "cell_type": "code",
   "execution_count": 29,
   "id": "eb505cce",
   "metadata": {},
   "outputs": [
    {
     "name": "stdout",
     "output_type": "stream",
     "text": [
      "0\n"
     ]
    }
   ],
   "source": [
    "is_duplicated_id = data_unique.duplicated(subset=['id'], keep=False)\n",
    "# параметр keep = False приводит к тому, что и оригинал, и дубликат помечаются как объект с дубликатом\n",
    "print(sum(is_duplicated_id)) "
   ]
  },
  {
   "cell_type": "code",
   "execution_count": 30,
   "id": "c3322a19",
   "metadata": {},
   "outputs": [
    {
     "name": "stdout",
     "output_type": "stream",
     "text": [
      "['build_year', 'building_id', 'building_type_int', 'ceiling_height', 'flats_count', 'floor', 'floors_total', 'has_elevator', 'is_apartment', 'kitchen_area', 'latitude', 'living_area', 'longitude', 'price', 'rooms', 'studio', 'total_area']\n",
      "17425\n"
     ]
    }
   ],
   "source": [
    "feature_cols = data_unique.columns.difference(['id']).tolist()\n",
    "print(feature_cols)\n",
    "is_duplicated_features = data_unique.duplicated(subset=feature_cols,keep=False)\n",
    "# print(is_duplicated_features)\n",
    "#data[\"is_duplicated_features\"]=is_duplicated_features\n",
    "#print(data)\n",
    "print(len(data_unique[is_duplicated_features]))"
   ]
  },
  {
   "cell_type": "code",
   "execution_count": 31,
   "id": "3a05d63c",
   "metadata": {},
   "outputs": [
    {
     "name": "stdout",
     "output_type": "stream",
     "text": [
      "            id  floor  is_apartment  kitchen_area  living_area  rooms  studio  total_area     price  building_id  build_year  building_type_int   latitude  longitude  ceiling_height  flats_count  floors_total  has_elevator\n",
      "52640    52640      3         False           0.0          0.0      4   False  120.000000  60000000            3        1901                  1  55.759594  37.646488             3.2           26             4         False\n",
      "54009    54009      3         False           0.0          0.0      4   False  120.000000  60000000            3        1901                  1  55.759594  37.646488             3.2           26             4         False\n",
      "90882    90882      4         False          11.0         48.0      2   False   63.000000  28000000            4        1902                  1  55.748661  37.656487             3.0           32             4         False\n",
      "122183  122183      4         False          11.0         48.0      2   False   63.000000  28000000            4        1902                  1  55.748661  37.656487             3.0           32             4         False\n",
      "63568    63568      5         False          10.0         74.0      3   False  100.000000  50000000            6        1902                  1  55.754581  37.594685             3.2           15             6          True\n",
      "...        ...    ...           ...           ...          ...    ...     ...         ...       ...          ...         ...                ...        ...        ...             ...          ...           ...           ...\n",
      "100793  100793      2         False          18.0          0.0      3   False   49.400002  18000000        24613        2022                  2  55.835766  37.491871             2.8          264            22          True\n",
      "100937  100937      2         False          18.0          0.0      3   False   49.400002  18000000        24613        2022                  2  55.835766  37.491871             2.8          264            22          True\n",
      "132927  132927      2         False          18.0          0.0      3   False   49.400002  18000000        24613        2022                  2  55.835766  37.491871             2.8          264            22          True\n",
      "32684    32684     14         False           0.0          0.0      1   False   36.000000   8100000        24613        2022                  2  55.835766  37.491871             2.8          264            22          True\n",
      "128245  128245     14         False           0.0          0.0      1   False   36.000000   8100000        24613        2022                  2  55.835766  37.491871             2.8          264            22          True\n",
      "\n",
      "[17425 rows x 18 columns]\n"
     ]
    }
   ],
   "source": [
    "print(data_unique[is_duplicated_features].sort_values(feature_cols)) "
   ]
  },
  {
   "cell_type": "code",
   "execution_count": 33,
   "id": "4f775e05",
   "metadata": {},
   "outputs": [
    {
     "name": "stdout",
     "output_type": "stream",
     "text": [
      "data shape = (123937, 18)\n"
     ]
    }
   ],
   "source": [
    "# print(f'data shape = {df_cleaned.shape}')"
   ]
  },
  {
   "cell_type": "code",
   "execution_count": 46,
   "id": "0e9af2e2",
   "metadata": {},
   "outputs": [
    {
     "data": {
      "text/plain": [
       "(141362, 18)"
      ]
     },
     "execution_count": 46,
     "metadata": {},
     "output_type": "execute_result"
    }
   ],
   "source": [
    "# sql = '''\n",
    "# select distinct studio from flats\n",
    "# '''\n",
    "\n",
    "# sql = '''\n",
    "# select f.*,b.* from flats f\n",
    "# join buildings as b on f.building_id=b.id\n",
    "# '''\n",
    "\n",
    "sql='''\n",
    "select f.id,f.floor,f.is_apartment,f.kitchen_area,f.living_area,f.rooms,\n",
    "f.studio,f.total_area,f.price,f.building_id,\n",
    "b.build_year,b.building_type_int,b.latitude,b.longitude,\n",
    "b.ceiling_height,b.flats_count,b.floors_total,b.has_elevator \n",
    "from flats as f\n",
    "join buildings as b on f.building_id=b.id'''\n",
    "\n",
    "studio = pd.read_sql(sql, conn)\n",
    "\n",
    "studio.shape"
   ]
  },
  {
   "cell_type": "code",
   "execution_count": 49,
   "id": "37fb65c8",
   "metadata": {},
   "outputs": [
    {
     "name": "stdout",
     "output_type": "stream",
     "text": [
      "(141362, 18)\n",
      "id                   141362\n",
      "floor                    56\n",
      "is_apartment              2\n",
      "kitchen_area           1036\n",
      "living_area            2345\n",
      "rooms                    14\n",
      "studio                    1\n",
      "total_area             3358\n",
      "price                  8384\n",
      "building_id           24620\n",
      "build_year              118\n",
      "building_type_int         7\n",
      "latitude              15720\n",
      "longitude             15271\n",
      "ceiling_height           77\n",
      "flats_count             706\n",
      "floors_total             64\n",
      "has_elevator              2\n",
      "dtype: int64\n"
     ]
    }
   ],
   "source": [
    "unique_counts = studio.nunique()\n",
    "print(studio.shape)\n",
    "print(unique_counts)"
   ]
  },
  {
   "cell_type": "code",
   "execution_count": 50,
   "id": "999f25f6",
   "metadata": {},
   "outputs": [
    {
     "name": "stdout",
     "output_type": "stream",
     "text": [
      "Исходный датафрейм:\n",
      "            id  floor  is_apartment  kitchen_area  living_area  rooms  studio  total_area     price  building_id  build_year  building_type_int   latitude  longitude  ceiling_height  flats_count  floors_total  has_elevator\n",
      "0            0      9         False          9.90    19.900000      1   False   35.099998   9500000         6220        1965                  6  55.717113  37.781120            2.64           84            12          True\n",
      "1            1      7         False          0.00    16.600000      1   False   43.000000  13500000        18012        2001                  2  55.794849  37.608013            3.00           97            10          True\n",
      "2            2      9         False          9.00    32.000000      2   False   56.000000  13500000        17821        2000                  4  55.740040  37.761742            2.70           80            10          True\n",
      "3            3      1         False         10.10    43.099998      3   False   76.000000  20000000        18579        2002                  4  55.672016  37.570877            2.64          771            17          True\n",
      "4            4      3         False          3.00    14.000000      1   False   24.000000   5200000         9293        1971                  1  55.808807  37.707306            2.60          208             9          True\n",
      "...        ...    ...           ...           ...          ...    ...     ...         ...       ...          ...         ...                ...        ...        ...             ...          ...           ...           ...\n",
      "141357  141357     16         False         11.00    18.000000      1   False   42.000000  10500000        22455        2013                  4  55.626579  37.313503            2.64          672            25          True\n",
      "141358  141358      5         False          5.28    28.330000      2   False   41.110001   7400000         3162        1960                  1  55.727470  37.768677            2.48           80             5         False\n",
      "141359  141359      7         False          5.30    20.000000      1   False   31.500000   9700000         6513        1966                  4  55.704315  37.506584            2.64           72             9          True\n",
      "141360  141360     15         False         13.80    33.700001      2   False   65.300003  11750000        23952        2017                  4  55.699863  37.939564            2.70          480            25          True\n",
      "141361  141361     16         False          7.60    18.000000      1   False   38.000000   8000000        15104        1988                  4  55.862133  37.689613            2.74          128            17          True\n",
      "\n",
      "[141362 rows x 18 columns]\n",
      "\n",
      "Датафрейм после удаления столбцов с одним уникальным значением:\n",
      "            id  floor  is_apartment  kitchen_area  living_area  rooms  total_area     price  building_id  build_year  building_type_int   latitude  longitude  ceiling_height  flats_count  floors_total  has_elevator\n",
      "0            0      9         False          9.90    19.900000      1   35.099998   9500000         6220        1965                  6  55.717113  37.781120            2.64           84            12          True\n",
      "1            1      7         False          0.00    16.600000      1   43.000000  13500000        18012        2001                  2  55.794849  37.608013            3.00           97            10          True\n",
      "2            2      9         False          9.00    32.000000      2   56.000000  13500000        17821        2000                  4  55.740040  37.761742            2.70           80            10          True\n",
      "3            3      1         False         10.10    43.099998      3   76.000000  20000000        18579        2002                  4  55.672016  37.570877            2.64          771            17          True\n",
      "4            4      3         False          3.00    14.000000      1   24.000000   5200000         9293        1971                  1  55.808807  37.707306            2.60          208             9          True\n",
      "...        ...    ...           ...           ...          ...    ...         ...       ...          ...         ...                ...        ...        ...             ...          ...           ...           ...\n",
      "141357  141357     16         False         11.00    18.000000      1   42.000000  10500000        22455        2013                  4  55.626579  37.313503            2.64          672            25          True\n",
      "141358  141358      5         False          5.28    28.330000      2   41.110001   7400000         3162        1960                  1  55.727470  37.768677            2.48           80             5         False\n",
      "141359  141359      7         False          5.30    20.000000      1   31.500000   9700000         6513        1966                  4  55.704315  37.506584            2.64           72             9          True\n",
      "141360  141360     15         False         13.80    33.700001      2   65.300003  11750000        23952        2017                  4  55.699863  37.939564            2.70          480            25          True\n",
      "141361  141361     16         False          7.60    18.000000      1   38.000000   8000000        15104        1988                  4  55.862133  37.689613            2.74          128            17          True\n",
      "\n",
      "[141362 rows x 17 columns]\n"
     ]
    }
   ],
   "source": [
    "data_filtered = studio.loc[:, studio.nunique() > 1]\n",
    "\n",
    "# Вывод результата\n",
    "print(\"Исходный датафрейм:\")\n",
    "print(studio)\n",
    "print(\"\\nДатафрейм после удаления столбцов с одним уникальным значением:\")\n",
    "print(data_filtered)"
   ]
  },
  {
   "cell_type": "code",
   "execution_count": 52,
   "id": "7ccd0b14",
   "metadata": {},
   "outputs": [
    {
     "name": "stdout",
     "output_type": "stream",
     "text": [
      "Столбцы с уникальными значениями, равными количеству строк:\n",
      "['id']\n",
      "\n",
      "Количество дублирующихся строк в оставшихся столбцах: 17425\n",
      "Дублирующиеся строки:\n",
      "        floor  is_apartment  kitchen_area  living_area  rooms  total_area     price  building_id  build_year  building_type_int   latitude  longitude  ceiling_height  flats_count  floors_total  has_elevator\n",
      "52640       3         False           0.0          0.0      4  120.000000  60000000            3        1901                  1  55.759594  37.646488             3.2           26             4         False\n",
      "54009       3         False           0.0          0.0      4  120.000000  60000000            3        1901                  1  55.759594  37.646488             3.2           26             4         False\n",
      "90882       4         False          11.0         48.0      2   63.000000  28000000            4        1902                  1  55.748661  37.656487             3.0           32             4         False\n",
      "122183      4         False          11.0         48.0      2   63.000000  28000000            4        1902                  1  55.748661  37.656487             3.0           32             4         False\n",
      "63568       5         False          10.0         74.0      3  100.000000  50000000            6        1902                  1  55.754581  37.594685             3.2           15             6          True\n",
      "...       ...           ...           ...          ...    ...         ...       ...          ...         ...                ...        ...        ...             ...          ...           ...           ...\n",
      "100793      2         False          18.0          0.0      3   49.400002  18000000        24613        2022                  2  55.835766  37.491871             2.8          264            22          True\n",
      "100937      2         False          18.0          0.0      3   49.400002  18000000        24613        2022                  2  55.835766  37.491871             2.8          264            22          True\n",
      "132927      2         False          18.0          0.0      3   49.400002  18000000        24613        2022                  2  55.835766  37.491871             2.8          264            22          True\n",
      "32684      14         False           0.0          0.0      1   36.000000   8100000        24613        2022                  2  55.835766  37.491871             2.8          264            22          True\n",
      "128245     14         False           0.0          0.0      1   36.000000   8100000        24613        2022                  2  55.835766  37.491871             2.8          264            22          True\n",
      "\n",
      "[17425 rows x 16 columns]\n"
     ]
    }
   ],
   "source": [
    "# Определение количества строк\n",
    "num_rows = data_filtered.shape[0]\n",
    "\n",
    "# Поиск столбцов с уникальными значениями, равными количеству строк\n",
    "unique_value_columns = data_filtered.columns[data_filtered.nunique() == num_rows]\n",
    "\n",
    "# Вывод столбцов с уникальными значениями\n",
    "print(\"Столбцы с уникальными значениями, равными количеству строк:\")\n",
    "print(unique_value_columns.tolist())\n",
    "feature_cols = data_unique.columns.difference(unique_value_columns.tolist()).tolist()\n",
    "# Удаление таких столбцов для поиска дублирующихся строк\n",
    "data_without_unique = data_filtered.drop(columns=unique_value_columns)\n",
    "\n",
    "# Находим дублирующиеся строки в оставшихся столбцах\n",
    "duplicate_rows = data_without_unique[data_without_unique.duplicated(keep=False)].sort_values(feature_cols)\n",
    "\n",
    "# Подсчитываем количество дублирующихся строк\n",
    "duplicate_count = duplicate_rows.shape[0]\n",
    "\n",
    "# Вывод результатов\n",
    "print(f\"\\nКоличество дублирующихся строк в оставшихся столбцах: {duplicate_count}\")\n",
    "print(\"Дублирующиеся строки:\")\n",
    "print(duplicate_rows)"
   ]
  },
  {
   "cell_type": "code",
   "execution_count": 53,
   "id": "730f8b0d",
   "metadata": {},
   "outputs": [
    {
     "name": "stdout",
     "output_type": "stream",
     "text": [
      "Датафрейм с уникальными строками (дубликаты удалены):\n",
      "            id  floor  is_apartment  kitchen_area  living_area  rooms  total_area     price  building_id  build_year  building_type_int   latitude  longitude  ceiling_height  flats_count  floors_total  has_elevator\n",
      "0            0      9         False          9.90    19.900000      1   35.099998   9500000         6220        1965                  6  55.717113  37.781120            2.64           84            12          True\n",
      "1            1      7         False          0.00    16.600000      1   43.000000  13500000        18012        2001                  2  55.794849  37.608013            3.00           97            10          True\n",
      "2            2      9         False          9.00    32.000000      2   56.000000  13500000        17821        2000                  4  55.740040  37.761742            2.70           80            10          True\n",
      "3            3      1         False         10.10    43.099998      3   76.000000  20000000        18579        2002                  4  55.672016  37.570877            2.64          771            17          True\n",
      "4            4      3         False          3.00    14.000000      1   24.000000   5200000         9293        1971                  1  55.808807  37.707306            2.60          208             9          True\n",
      "...        ...    ...           ...           ...          ...    ...         ...       ...          ...         ...                ...        ...        ...             ...          ...           ...           ...\n",
      "141357  141357     16         False         11.00    18.000000      1   42.000000  10500000        22455        2013                  4  55.626579  37.313503            2.64          672            25          True\n",
      "141358  141358      5         False          5.28    28.330000      2   41.110001   7400000         3162        1960                  1  55.727470  37.768677            2.48           80             5         False\n",
      "141359  141359      7         False          5.30    20.000000      1   31.500000   9700000         6513        1966                  4  55.704315  37.506584            2.64           72             9          True\n",
      "141360  141360     15         False         13.80    33.700001      2   65.300003  11750000        23952        2017                  4  55.699863  37.939564            2.70          480            25          True\n",
      "141361  141361     16         False          7.60    18.000000      1   38.000000   8000000        15104        1988                  4  55.862133  37.689613            2.74          128            17          True\n",
      "\n",
      "[132246 rows x 17 columns]\n"
     ]
    }
   ],
   "source": [
    "feature_cols = data_filtered.columns.difference(['id']).tolist()\n",
    "data_unique = data_filtered.drop_duplicates(subset=feature_cols)\n",
    "\n",
    "# Вывод результата\n",
    "print(\"Датафрейм с уникальными строками (дубликаты удалены):\")\n",
    "print(data_unique)"
   ]
  },
  {
   "cell_type": "code",
   "execution_count": 54,
   "id": "5a52fd2c",
   "metadata": {},
   "outputs": [
    {
     "name": "stdout",
     "output_type": "stream",
     "text": [
      "floor                  int64\n",
      "is_apartment            bool\n",
      "kitchen_area         float64\n",
      "living_area          float64\n",
      "rooms                  int64\n",
      "total_area           float64\n",
      "price                  int64\n",
      "building_id            int64\n",
      "build_year             int64\n",
      "building_type_int      int64\n",
      "latitude             float64\n",
      "longitude            float64\n",
      "ceiling_height       float64\n",
      "flats_count            int64\n",
      "floors_total           int64\n",
      "has_elevator            bool\n",
      "dtype: object\n",
      "int64      8\n",
      "float64    6\n",
      "bool       2\n",
      "Name: count, dtype: int64\n",
      "(132246, 16)\n"
     ]
    }
   ],
   "source": [
    "features = data_unique.drop(columns=['id'])\n",
    "data_types = features.dtypes\n",
    "type_counts = data_types.value_counts()\n",
    "\n",
    "print(data_types)\n",
    "print(type_counts)\n",
    "print(features.shape)"
   ]
  },
  {
   "cell_type": "code",
   "execution_count": 55,
   "id": "8ce3f7bf",
   "metadata": {},
   "outputs": [
    {
     "name": "stdout",
     "output_type": "stream",
     "text": [
      "Столбец 'is_apartment': True: 1270, False: 130976\n",
      "Столбец 'has_elevator': True: 118607, False: 13639\n",
      "        floor  kitchen_area  living_area  rooms  total_area     price  building_id  build_year  building_type_int   latitude  longitude  ceiling_height  flats_count  floors_total\n",
      "0           9          9.90    19.900000      1   35.099998   9500000         6220        1965                  6  55.717113  37.781120            2.64           84            12\n",
      "1           7          0.00    16.600000      1   43.000000  13500000        18012        2001                  2  55.794849  37.608013            3.00           97            10\n",
      "2           9          9.00    32.000000      2   56.000000  13500000        17821        2000                  4  55.740040  37.761742            2.70           80            10\n",
      "3           1         10.10    43.099998      3   76.000000  20000000        18579        2002                  4  55.672016  37.570877            2.64          771            17\n",
      "4           3          3.00    14.000000      1   24.000000   5200000         9293        1971                  1  55.808807  37.707306            2.60          208             9\n",
      "...       ...           ...          ...    ...         ...       ...          ...         ...                ...        ...        ...             ...          ...           ...\n",
      "141357     16         11.00    18.000000      1   42.000000  10500000        22455        2013                  4  55.626579  37.313503            2.64          672            25\n",
      "141358      5          5.28    28.330000      2   41.110001   7400000         3162        1960                  1  55.727470  37.768677            2.48           80             5\n",
      "141359      7          5.30    20.000000      1   31.500000   9700000         6513        1966                  4  55.704315  37.506584            2.64           72             9\n",
      "141360     15         13.80    33.700001      2   65.300003  11750000        23952        2017                  4  55.699863  37.939564            2.70          480            25\n",
      "141361     16          7.60    18.000000      1   38.000000   8000000        15104        1988                  4  55.862133  37.689613            2.74          128            17\n",
      "\n",
      "[132246 rows x 14 columns]\n"
     ]
    }
   ],
   "source": [
    "num_features = features.select_dtypes(include=['float64', 'int64'])\n",
    "# bool_features = features.select_dtypes(include='bool')\n",
    "bool_features = features.select_dtypes(include='bool')\n",
    "\n",
    "# Подсчет значений True и False для каждого булевого столбца\n",
    "for col in bool_features:\n",
    "    true_count = bool_features[col].sum()  # Количество True\n",
    "    false_count = (~bool_features[col]).sum()  # Количество False\n",
    "    print(f\"Столбец '{col}': True: {true_count}, False: {false_count}\")\n",
    "\n",
    "\n",
    "# print(bool_features)\n",
    "# print(other_cat_features)\n",
    "print(num_features)"
   ]
  },
  {
   "cell_type": "code",
   "execution_count": 56,
   "id": "09b30a32",
   "metadata": {},
   "outputs": [
    {
     "name": "stdout",
     "output_type": "stream",
     "text": [
      "Строки, где 'price' > 90% от максимального значения:\n",
      "          id  floor  is_apartment  kitchen_area  living_area  rooms  total_area       price  building_id  build_year  building_type_int   latitude  longitude  ceiling_height  flats_count  floors_total  has_elevator\n",
      "40855  40855      2         False      6.000000         27.9      2        45.0  9200000000        10733        1974                  4  55.578274  37.647091            2.65          214             9          True\n",
      "83773  83773      6         False      8.000000         22.0      2        37.0  9799999488         6108        1965                  4  55.842663  37.427437            2.64           72             9          True\n",
      "85787  85787     25         False     22.299999        125.0      5       220.0  9873737728        19982        2006                  2  55.652802  37.474201            3.10          219            33          True\n"
     ]
    }
   ],
   "source": [
    "max_price = data_unique['price'].max()\n",
    "\n",
    "# Вычислить 90% от максимального значения\n",
    "threshold = 0.9 * max_price\n",
    "\n",
    "# Отфильтровать строки, где 'price' > 0.9 * max(price)\n",
    "highest_price = data_unique[data_unique['price'] > threshold]\n",
    "\n",
    "# Вывод результата\n",
    "print(\"Строки, где 'price' > 90% от максимального значения:\")\n",
    "print(highest_price)"
   ]
  },
  {
   "cell_type": "code",
   "execution_count": 57,
   "id": "c4ab872a",
   "metadata": {},
   "outputs": [
    {
     "data": {
      "text/plain": [
       "id                   0\n",
       "floor                0\n",
       "is_apartment         0\n",
       "kitchen_area         0\n",
       "living_area          0\n",
       "rooms                0\n",
       "total_area           0\n",
       "price                0\n",
       "building_id          0\n",
       "build_year           0\n",
       "building_type_int    0\n",
       "latitude             0\n",
       "longitude            0\n",
       "ceiling_height       0\n",
       "flats_count          0\n",
       "floors_total         0\n",
       "has_elevator         0\n",
       "dtype: int64"
      ]
     },
     "execution_count": 57,
     "metadata": {},
     "output_type": "execute_result"
    }
   ],
   "source": [
    "data_unique.isnull().sum()"
   ]
  },
  {
   "cell_type": "code",
   "execution_count": 58,
   "id": "c0c72fb5",
   "metadata": {},
   "outputs": [
    {
     "data": {
      "text/plain": [
       "count    1.322460e+05\n",
       "mean     1.933210e+07\n",
       "std      6.757713e+07\n",
       "min      1.100000e+01\n",
       "25%      8.900000e+06\n",
       "50%      1.180000e+07\n",
       "75%      1.685000e+07\n",
       "max      9.873738e+09\n",
       "Name: price, dtype: float64"
      ]
     },
     "metadata": {},
     "output_type": "display_data"
    },
    {
     "data": {
      "text/plain": [
       "<Axes: xlabel='price', ylabel='Count'>"
      ]
     },
     "metadata": {},
     "output_type": "display_data"
    },
    {
     "data": {
      "image/png": "[encoded data removed]",
      "text/plain": [
       "<Figure size 640x480 with 1 Axes>"
      ]
     },
     "metadata": {},
     "output_type": "display_data"
    }
   ],
   "source": [
    "import seaborn as sns\n",
    "display(num_features['price'].describe())\n",
    "display(sns.histplot(num_features['price']))"
   ]
  },
  {
   "cell_type": "code",
   "execution_count": 62,
   "id": "f21e510a",
   "metadata": {},
   "outputs": [
    {
     "name": "stdout",
     "output_type": "stream",
     "text": [
      "            id  floor  is_apartment  kitchen_area  living_area  rooms  total_area     price  building_id  build_year  building_type_int   latitude  longitude  ceiling_height  flats_count  floors_total  has_elevator\n",
      "0            0      9         False          9.90    19.900000      1   35.099998   9500000         6220        1965                  6  55.717113  37.781120            2.64           84            12          True\n",
      "1            1      7         False          0.00    16.600000      1   43.000000  13500000        18012        2001                  2  55.794849  37.608013            3.00           97            10          True\n",
      "2            2      9         False          9.00    32.000000      2   56.000000  13500000        17821        2000                  4  55.740040  37.761742            2.70           80            10          True\n",
      "3            3      1         False         10.10    43.099998      3   76.000000  20000000        18579        2002                  4  55.672016  37.570877            2.64          771            17          True\n",
      "4            4      3         False          3.00    14.000000      1   24.000000   5200000         9293        1971                  1  55.808807  37.707306            2.60          208             9          True\n",
      "...        ...    ...           ...           ...          ...    ...         ...       ...          ...         ...                ...        ...        ...             ...          ...           ...           ...\n",
      "141357  141357     16         False         11.00    18.000000      1   42.000000  10500000        22455        2013                  4  55.626579  37.313503            2.64          672            25          True\n",
      "141358  141358      5         False          5.28    28.330000      2   41.110001   7400000         3162        1960                  1  55.727470  37.768677            2.48           80             5         False\n",
      "141359  141359      7         False          5.30    20.000000      1   31.500000   9700000         6513        1966                  4  55.704315  37.506584            2.64           72             9          True\n",
      "141360  141360     15         False         13.80    33.700001      2   65.300003  11750000        23952        2017                  4  55.699863  37.939564            2.70          480            25          True\n",
      "141361  141361     16         False          7.60    18.000000      1   38.000000   8000000        15104        1988                  4  55.862133  37.689613            2.74          128            17          True\n",
      "\n",
      "[113502 rows x 17 columns]\n"
     ]
    }
   ],
   "source": [
    "num_cols = data_unique.select_dtypes(['float','int']).columns\n",
    "threshold = 0.45\n",
    "potential_outliers = pd.DataFrame()\n",
    "\n",
    "for col in num_cols:\n",
    "\tQ1 = data_unique[col].quantile(0.25)\n",
    "\tQ3 = data_unique[col].quantile(0.75)\n",
    "\tIQR = Q3 - Q1\n",
    "\tmargin = threshold * IQR\n",
    "\tlower = Q1 - margin\n",
    "\tupper = Q3 + margin\n",
    "\tpotential_outliers[col] = ~data_unique[col].between(lower, upper)\n",
    "\n",
    "outliers = potential_outliers.any(axis=1)\n",
    "\n",
    "print(data_unique[outliers])\n"
   ]
  }
 ],
 "metadata": {
  "kernelspec": {
   "display_name": "mle03",
   "language": "python",
   "name": "python3"
  },
  "language_info": {
   "codemirror_mode": {
    "name": "ipython",
    "version": 3
   },
   "file_extension": ".py",
   "mimetype": "text/x-python",
   "name": "python",
   "nbconvert_exporter": "python",
   "pygments_lexer": "ipython3",
   "version": "3.10.15"
  }
 },
 "nbformat": 4,
 "nbformat_minor": 5
}
